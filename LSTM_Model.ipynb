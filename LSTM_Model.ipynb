{
 "cells": [
  {
   "cell_type": "code",
   "execution_count": 1,
   "metadata": {},
   "outputs": [],
   "source": [
    "from __future__ import print_function\n",
    "from __future__ import division\n",
    "from __future__ import absolute_import\n",
    "from __future__ import unicode_literals\n",
    "\n",
    "import os\n",
    "import sys\n",
    "\n",
    "import numpy as np\n",
    "import pandas as pd\n",
    "\n",
    "import matplotlib.pyplot as plt\n",
    "import matplotlib as mpl\n",
    "\n",
    "%matplotlib notebook"
   ]
  },
  {
   "cell_type": "markdown",
   "metadata": {},
   "source": [
    "Default plot settings."
   ]
  },
  {
   "cell_type": "code",
   "execution_count": 2,
   "metadata": {},
   "outputs": [],
   "source": [
    "try:\n",
    "    import seaborn as sns\n",
    "    sns.set()\n",
    "    sns.set_style(\"whitegrid\")\n",
    "    sns.set_context(\"poster\")\n",
    "except ImportError as e:\n",
    "    print(\"Cannot import seaborn.\")\n",
    "    print(\"Consider installing it for nice plot !\")\n",
    "\n",
    "mpl.rcParams['figure.figsize'] = [12.0, 9.0]\n",
    "mpl.rcParams['figure.dpi'] = 80\n",
    "mpl.rcParams['savefig.dpi'] = 100\n",
    "\n",
    "mpl.rcParams['font.size'] = 22\n",
    "mpl.rcParams['axes.labelsize'] = 18\n",
    "mpl.rcParams['ytick.labelsize'] = 18\n",
    "mpl.rcParams['xtick.labelsize'] = 18\n",
    "mpl.rcParams['legend.fontsize'] = 'large'\n",
    "mpl.rcParams['figure.titlesize'] = 'medium'\n"
   ]
  },
  {
   "cell_type": "markdown",
   "metadata": {},
   "source": [
    "# Load data\n",
    "\n",
    "\n"
   ]
  },
  {
   "cell_type": "code",
   "execution_count": 3,
   "metadata": {},
   "outputs": [],
   "source": [
    "from dataset import load_hit_generator, load_hit_truth_generator, load_hit_particle_generator"
   ]
  },
  {
   "cell_type": "code",
   "execution_count": 4,
   "metadata": {},
   "outputs": [],
   "source": [
    "data_path = \"./training/\""
   ]
  },
  {
   "cell_type": "code",
   "execution_count": 5,
   "metadata": {},
   "outputs": [],
   "source": [
    "event_truth_generator = load_hit_truth_generator(data_path)\n",
    "event_id, event, truth = next(event_truth_generator)\n",
    "\n",
    "\n",
    "event['r'] = np.hypot(event['x'],event['y'])\n",
    "event['phi'] = np.arctan2(event['y'], event['x'])\n",
    "\n",
    "first_layer = event.loc[(event['r']<40)]\n",
    "remaining_layers = event.loc[(event['r']>=40)]\n",
    "truth_first_layer = truth.loc[(event['r']<40)]"
   ]
  },
  {
   "cell_type": "code",
   "execution_count": 6,
   "metadata": {},
   "outputs": [
    {
     "data": {
      "text/html": [
       "<div>\n",
       "<style scoped>\n",
       "    .dataframe tbody tr th:only-of-type {\n",
       "        vertical-align: middle;\n",
       "    }\n",
       "\n",
       "    .dataframe tbody tr th {\n",
       "        vertical-align: top;\n",
       "    }\n",
       "\n",
       "    .dataframe thead th {\n",
       "        text-align: right;\n",
       "    }\n",
       "</style>\n",
       "<table border=\"1\" class=\"dataframe\">\n",
       "  <thead>\n",
       "    <tr style=\"text-align: right;\">\n",
       "      <th></th>\n",
       "      <th>hit_id</th>\n",
       "      <th>particle_id</th>\n",
       "      <th>tx</th>\n",
       "      <th>ty</th>\n",
       "      <th>tz</th>\n",
       "      <th>tpx</th>\n",
       "      <th>tpy</th>\n",
       "      <th>tpz</th>\n",
       "    </tr>\n",
       "  </thead>\n",
       "  <tbody>\n",
       "    <tr>\n",
       "      <th>0</th>\n",
       "      <td>1</td>\n",
       "      <td>4513632670973952</td>\n",
       "      <td>605.722</td>\n",
       "      <td>-503.528</td>\n",
       "      <td>-241.204</td>\n",
       "      <td>0.861402</td>\n",
       "      <td>-1.022420</td>\n",
       "      <td>-0.418102</td>\n",
       "    </tr>\n",
       "    <tr>\n",
       "      <th>1</th>\n",
       "      <td>2</td>\n",
       "      <td>99083521129185280</td>\n",
       "      <td>-521.111</td>\n",
       "      <td>581.760</td>\n",
       "      <td>-771.116</td>\n",
       "      <td>-0.159444</td>\n",
       "      <td>0.522309</td>\n",
       "      <td>-0.512570</td>\n",
       "    </tr>\n",
       "    <tr>\n",
       "      <th>2</th>\n",
       "      <td>3</td>\n",
       "      <td>171158501194727424</td>\n",
       "      <td>601.567</td>\n",
       "      <td>489.297</td>\n",
       "      <td>476.313</td>\n",
       "      <td>0.942753</td>\n",
       "      <td>0.475214</td>\n",
       "      <td>0.626167</td>\n",
       "    </tr>\n",
       "    <tr>\n",
       "      <th>3</th>\n",
       "      <td>4</td>\n",
       "      <td>63051288136384512</td>\n",
       "      <td>741.358</td>\n",
       "      <td>708.926</td>\n",
       "      <td>-187.819</td>\n",
       "      <td>0.211256</td>\n",
       "      <td>0.617001</td>\n",
       "      <td>-0.116892</td>\n",
       "    </tr>\n",
       "    <tr>\n",
       "      <th>4</th>\n",
       "      <td>5</td>\n",
       "      <td>81066167682203648</td>\n",
       "      <td>-799.625</td>\n",
       "      <td>-641.450</td>\n",
       "      <td>1035.490</td>\n",
       "      <td>-0.535081</td>\n",
       "      <td>-0.807179</td>\n",
       "      <td>0.968362</td>\n",
       "    </tr>\n",
       "  </tbody>\n",
       "</table>\n",
       "</div>"
      ],
      "text/plain": [
       "   hit_id         particle_id       tx       ty        tz       tpx       tpy  \\\n",
       "0       1    4513632670973952  605.722 -503.528  -241.204  0.861402 -1.022420   \n",
       "1       2   99083521129185280 -521.111  581.760  -771.116 -0.159444  0.522309   \n",
       "2       3  171158501194727424  601.567  489.297   476.313  0.942753  0.475214   \n",
       "3       4   63051288136384512  741.358  708.926  -187.819  0.211256  0.617001   \n",
       "4       5   81066167682203648 -799.625 -641.450  1035.490 -0.535081 -0.807179   \n",
       "\n",
       "        tpz  \n",
       "0 -0.418102  \n",
       "1 -0.512570  \n",
       "2  0.626167  \n",
       "3 -0.116892  \n",
       "4  0.968362  "
      ]
     },
     "execution_count": 6,
     "metadata": {},
     "output_type": "execute_result"
    }
   ],
   "source": [
    "truth.head()"
   ]
  },
  {
   "cell_type": "code",
   "execution_count": 8,
   "metadata": {},
   "outputs": [],
   "source": [
    "r_bins = 9\n",
    "phi_bins = 100\n",
    "z_bins = 100\n",
    "phi_width = 2.0*np.pi/float(phi_bins)\n",
    "z_width = 2200./float(z_bins)\n",
    "\n",
    "r_grid = np.array([0, 40, 80, 120, 200, 300, 500, 700, 900])\n",
    "z_grid = np.linspace(-1100, 1100, z_bins)\n",
    "phi_grid = np.linspace(-np.pi, np.pi, phi_bins)\n",
    "    \n",
    "def get_phi(x, y):\n",
    "    return np.arctan2(y, x)\n",
    "\n",
    "def discretize(evt):\n",
    "    image = np.zeros((r_bins,phi_bins,z_bins, 1))\n",
    "    hits_row_names = list(evt.columns)\n",
    "    for hit in evt.itertuples():\n",
    "        x = hit[hits_row_names.index('x')+1]\n",
    "        y = hit[hits_row_names.index('y')+1]\n",
    "        z = hit[hits_row_names.index('z')+1]\n",
    "        r = hit[hits_row_names.index('r')+1]\n",
    "        ir = np.digitize(r,r_grid,right=False)-1\n",
    "        phi = hit[hits_row_names.index('phi')+1]\n",
    "        iphi = int((phi+np.pi)/phi_width)\n",
    "        iz = int((z+1100)/z_width)\n",
    "        image[ir,iphi,iz,0] = 1\n",
    "    return image"
   ]
  },
  {
   "cell_type": "code",
   "execution_count": 10,
   "metadata": {},
   "outputs": [
    {
     "data": {
      "image/png": "[encoded data removed]",
      "text/plain": [
       "<Figure size 960x400 with 4 Axes>"
      ]
     },
     "metadata": {},
     "output_type": "display_data"
    }
   ],
   "source": [
    "image = discretize(event)\n",
    "plt.figure(figsize=(12,5))\n",
    "plt.subplot(1,2,1)\n",
    "im = plt.imshow(np.sum(image[:,:,:,0],axis=-1).T, interpolation='none',\n",
    "               aspect='auto', origin='lower', vmin=1, vmax=10,cmap='Blues')\n",
    "plt.colorbar(im)\n",
    "\n",
    "plt.subplot(1,2,2)\n",
    "truth_event_particle = pd.merge(event[truth.particle_id==4504011944230912],\n",
    "                                truth[truth.particle_id==4504011944230912],\n",
    "                                on='hit_id', how='left', validate='one_to_one')\n",
    "truth_image = discretize(truth_event_particle)\n",
    "t_im = plt.imshow(np.sum(truth_image[:,:,:,0],axis=-1).T, interpolation='none',\n",
    "               aspect='auto', origin='lower', vmin=1, vmax=1, cmap='Blues')\n",
    "plt.colorbar(t_im)\n",
    "plt.tight_layout()"
   ]
  },
  {
   "cell_type": "code",
   "execution_count": 14,
   "metadata": {},
   "outputs": [
    {
     "name": "stdout",
     "output_type": "stream",
     "text": [
      "Number of seeds: 579\n",
      "Preparing training data...\n"
     ]
    }
   ],
   "source": [
    "# Load some data\n",
    "event_truth_generator = load_hit_truth_generator(data_path)\n",
    "event_id, event, truth = next(event_truth_generator)\n",
    "\n",
    "# comput r, phi\n",
    "event['r'] = np.hypot(event['x'],event['y'])\n",
    "event['phi'] = np.arctan2(event['y'], event['x'])\n",
    "\n",
    "# get first layers\n",
    "first_layer = event.loc[(event['r']<40)]\n",
    "truth_first_layer = truth.loc[(event['r']<40)]\n",
    "\n",
    "# Count the number of first-layer hits, which will be my seeds\n",
    "num_seeds = len(first_layer)\n",
    "print('Number of seeds: %d' % num_seeds)\n",
    "print('Preparing training data...')\n",
    "# Training input will contain the seed hit followed by the rest of the event\n",
    "train_input = np.zeros((num_seeds, r_bins, phi_bins, z_bins))\n",
    "full_input = discretize(event)\n",
    "# Training targets will be images of the individual signal tracks\n",
    "train_target = np.zeros_like(train_input)\n",
    "    \n",
    "# Loop over training samples to prepare (seeds)\n",
    "for i_sample in range(num_seeds):\n",
    "    i_hit = first_layer.iloc[i_sample]\n",
    "    # Find all the hits from this event\n",
    "    #ev_idx = evids == y[i_hit,0]\n",
    "    #ev_lay, ev_phi = layers[ev_idx], phis[ev_idx]\n",
    "    #r = i_hit['r']\n",
    "    phi = i_hit['phi']\n",
    "    z = i_hit['z']\n",
    "    #ir = np.digitize(r,r_grid,right=False)-1\n",
    "    iphi = int((phi+np.pi)/phi_width)\n",
    "    iz = int((z+1100)/z_width)\n",
    "    # Fill the input first layer with just the seed hit\n",
    "    train_input[i_sample,0,iphi,iz] = 1\n",
    "    # Fill the other layers with all remaining event hits\n",
    "    for ir in range(1, r_bins):\n",
    "        train_input[i_sample, ir, :, :] = full_input[ir, :, :, 0]\n",
    "\n",
    "    # Fill target with hits from this track\n",
    "    #ev_trk_idx = ev_trkid == y[i_hit,1]\n",
    "    i_truth = truth_first_layer.iloc[i_sample]\n",
    "    if i_truth['particle_id']==0: continue\n",
    "        \n",
    "    truth_event_particle = pd.merge(event[truth.particle_id==i_truth['particle_id']],\n",
    "                                    truth[truth.particle_id==i_truth['particle_id']],\n",
    "                                    on='hit_id', how='left', validate='one_to_one')\n",
    "    truth_image = discretize(truth_event_particle)\n",
    "    train_target[i_sample, :, :, :] = truth_image[:,:,:,0]"
   ]
  },
  {
   "cell_type": "code",
   "execution_count": 15,
   "metadata": {},
   "outputs": [
    {
     "data": {
      "image/png": "[encoded data removed]",
      "text/plain": [
       "<Figure size 960x400 with 4 Axes>"
      ]
     },
     "metadata": {},
     "output_type": "display_data"
    }
   ],
   "source": [
    "plt.figure(figsize=(12,5))\n",
    "plt.subplot(1,2,1)\n",
    "im = plt.imshow(np.sum(train_input[2],axis=-1).T, interpolation='none',\n",
    "               aspect='auto', origin='lower', vmin=1, vmax=1, cmap='Blues')\n",
    "plt.colorbar(im)\n",
    "plt.subplot(1,2,2)\n",
    "t_im = plt.imshow(np.sum(train_target[2],axis=-1).T, interpolation='none',\n",
    "               aspect='auto', origin='lower', vmin=1, vmax=1, cmap='Blues')\n",
    "plt.colorbar(t_im)\n",
    "plt.tight_layout()"
   ]
  },
  {
   "cell_type": "code",
   "execution_count": 16,
   "metadata": {},
   "outputs": [
    {
     "name": "stderr",
     "output_type": "stream",
     "text": [
      "Using TensorFlow backend.\n"
     ]
    }
   ],
   "source": [
    "import keras\n",
    "from keras.layers import Input, Dense, LSTM, TimeDistributed, Reshape\n",
    "from keras.models import Model\n",
    "def build_model(num_hidden, length, dim1, dim2,\n",
    "                loss='categorical_crossentropy',\n",
    "                optimizer='Nadam', metrics=['accuracy']):\n",
    "    inputs = Input(shape=(length, dim1, dim2),name='inputs')\n",
    "    reshape = Reshape((length, dim1*dim2),name='reshape_inputs')(inputs)\n",
    "    hidden = LSTM(units=num_hidden, return_sequences=True,name='lstm')(reshape)\n",
    "    dense = TimeDistributed(Dense(dim1*dim2, activation='softmax'),name='dense')(hidden)\n",
    "    outputs = Reshape((length, dim1, dim2),name='reshape_outputs')(dense)\n",
    "    model = Model(inputs=inputs, outputs=outputs)\n",
    "    model.compile(loss=loss, optimizer=optimizer, metrics=metrics)\n",
    "    return model"
   ]
  },
  {
   "cell_type": "code",
   "execution_count": null,
   "metadata": {},
   "outputs": [
    {
     "name": "stdout",
     "output_type": "stream",
     "text": [
      "Starting training...\n",
      "_________________________________________________________________\n",
      "Layer (type)                 Output Shape              Param #   \n",
      "=================================================================\n",
      "inputs (InputLayer)          (None, 9, 100, 100)       0         \n",
      "_________________________________________________________________\n",
      "reshape_inputs (Reshape)     (None, 9, 10000)          0         \n",
      "_________________________________________________________________\n",
      "lstm (LSTM)                  (None, 9, 500)            21002000  \n",
      "_________________________________________________________________\n",
      "dense (TimeDistributed)      (None, 9, 10000)          5010000   \n",
      "_________________________________________________________________\n",
      "reshape_outputs (Reshape)    (None, 9, 100, 100)       0         \n",
      "=================================================================\n",
      "Total params: 26,012,000\n",
      "Trainable params: 26,012,000\n",
      "Non-trainable params: 0\n",
      "_________________________________________________________________\n",
      "Epoch 1/100\n",
      "579/579 [==============================] - 3s 6ms/step - loss: 0.0374 - acc: 0.0030\n",
      "Epoch 2/100\n",
      "579/579 [==============================] - 2s 4ms/step - loss: 0.0280 - acc: 0.0014\n",
      "Epoch 3/100\n",
      "579/579 [==============================] - 2s 4ms/step - loss: 0.0230 - acc: 0.0021\n",
      "Epoch 4/100\n",
      "579/579 [==============================] - 2s 4ms/step - loss: 0.0203 - acc: 0.0023\n",
      "Epoch 5/100\n",
      "579/579 [==============================] - 2s 4ms/step - loss: 0.0187 - acc: 0.0025\n",
      "Epoch 6/100\n",
      "579/579 [==============================] - 2s 4ms/step - loss: 0.0178 - acc: 0.0024\n",
      "Epoch 7/100\n",
      "579/579 [==============================] - 2s 4ms/step - loss: 0.0173 - acc: 0.0025\n",
      "Epoch 8/100\n",
      "579/579 [==============================] - 2s 4ms/step - loss: 0.0169 - acc: 0.0025\n",
      "Epoch 9/100\n",
      "579/579 [==============================] - 2s 4ms/step - loss: 0.0166 - acc: 0.0027\n",
      "Epoch 10/100\n",
      "579/579 [==============================] - 2s 4ms/step - loss: 0.0164 - acc: 0.0026\n",
      "Epoch 11/100\n",
      "579/579 [==============================] - 2s 4ms/step - loss: 0.0163 - acc: 0.0026\n",
      "Epoch 12/100\n",
      "579/579 [==============================] - 2s 4ms/step - loss: 0.0162 - acc: 0.0025\n",
      "Epoch 13/100\n",
      "579/579 [==============================] - 2s 4ms/step - loss: 0.0161 - acc: 0.0026\n",
      "Epoch 14/100\n",
      "579/579 [==============================] - 2s 4ms/step - loss: 0.0158 - acc: 0.0027\n",
      "Epoch 15/100\n",
      "579/579 [==============================] - 2s 4ms/step - loss: 0.0157 - acc: 0.0027\n",
      "Epoch 16/100\n",
      "579/579 [==============================] - 2s 4ms/step - loss: 0.0157 - acc: 0.0026\n",
      "Epoch 17/100\n",
      "579/579 [==============================] - 2s 4ms/step - loss: 0.0156 - acc: 0.0026\n",
      "Epoch 18/100\n",
      "579/579 [==============================] - 2s 4ms/step - loss: 0.0154 - acc: 0.0027\n",
      "Epoch 19/100\n",
      "579/579 [==============================] - 2s 4ms/step - loss: 0.0154 - acc: 0.0027\n",
      "Epoch 20/100\n",
      "579/579 [==============================] - 2s 4ms/step - loss: 0.0152 - acc: 0.0026\n",
      "Epoch 21/100\n",
      "384/579 [==================>...........] - ETA: 0s - loss: 0.0146 - acc: 0.0029"
     ]
    }
   ],
   "source": [
    "print('Starting training...')\n",
    "model = build_model(500, r_bins, phi_bins, z_bins)\n",
    "model.summary()\n",
    "history = model.fit(train_input, train_target, batch_size=128, epochs=20)"
   ]
  },
  {
   "cell_type": "code",
   "execution_count": null,
   "metadata": {},
   "outputs": [],
   "source": [
    "plt.figure(figsize=(12,5))\n",
    "plt.subplot(1,3,1)\n",
    "im = plt.imshow(np.sum(train_input[2],axis=-1).T, interpolation='none',\n",
    "               aspect='auto', origin='lower', vmin=1, vmax=1, cmap='Blues')\n",
    "plt.colorbar(im)\n",
    "plt.subplot(1,3,2)\n",
    "t_im = plt.imshow(np.sum(train_target[2],axis=-1).T, interpolation='none',\n",
    "               aspect='auto', origin='lower',vmin=1, vmax=1, cmap='Blues')\n",
    "plt.colorbar(t_im)\n",
    "plt.subplot(1,3,3)\n",
    "predict = model.predict(train_input[2:3,:,:,:])\n",
    "p_im = plt.imshow(np.sum(predict[0],axis=-1).T, interpolation='none',\n",
    "               aspect='auto', origin='lower', cmap='Blues')\n",
    "plt.colorbar(p_im)\n",
    "plt.tight_layout()"
   ]
  },
  {
   "cell_type": "code",
   "execution_count": null,
   "metadata": {},
   "outputs": [],
   "source": []
  }
 ],
 "metadata": {
  "kernelspec": {
   "display_name": "Python 3",
   "language": "python",
   "name": "python3"
  },
  "language_info": {
   "codemirror_mode": {
    "name": "ipython",
    "version": 3
   },
   "file_extension": ".py",
   "mimetype": "text/x-python",
   "name": "python",
   "nbconvert_exporter": "python",
   "pygments_lexer": "ipython3",
   "version": "3.6.4"
  },
  "toc": {
   "nav_menu": {},
   "number_sections": false,
   "sideBar": true,
   "skip_h1_title": false,
   "toc_cell": false,
   "toc_position": {},
   "toc_section_display": "block",
   "toc_window_display": true
  }
 },
 "nbformat": 4,
 "nbformat_minor": 2
}
